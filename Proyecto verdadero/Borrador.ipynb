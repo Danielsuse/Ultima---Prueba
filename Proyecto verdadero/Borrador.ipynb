{
 "cells": [
  {
   "cell_type": "code",
   "execution_count": 2,
   "metadata": {},
   "outputs": [
    {
     "data": {
      "text/html": [
       "        <script type=\"text/javascript\">\n",
       "        window.PlotlyConfig = {MathJaxConfig: 'local'};\n",
       "        if (window.MathJax && window.MathJax.Hub && window.MathJax.Hub.Config) {window.MathJax.Hub.Config({SVG: {font: \"STIX-Web\"}});}\n",
       "        </script>\n",
       "        <script type=\"module\">import \"https://cdn.plot.ly/plotly-3.0.1.min\"</script>\n",
       "        "
      ]
     },
     "metadata": {},
     "output_type": "display_data"
    },
    {
     "data": {
      "text/html": [
       "        <script type=\"text/javascript\">\n",
       "        window.PlotlyConfig = {MathJaxConfig: 'local'};\n",
       "        if (window.MathJax && window.MathJax.Hub && window.MathJax.Hub.Config) {window.MathJax.Hub.Config({SVG: {font: \"STIX-Web\"}});}\n",
       "        </script>\n",
       "        <script type=\"module\">import \"https://cdn.plot.ly/plotly-3.0.1.min\"</script>\n",
       "        "
      ]
     },
     "metadata": {},
     "output_type": "display_data"
    }
   ],
   "source": [
    "import streamlit as st\n",
    "import numpy as np\n",
    "import pandas as pd\n",
    "import yfinance as yf\n",
    "import matplotlib.pyplot as plt\n",
    "import Funciones_MCF as MCF\n",
    "from scipy.stats import*\n",
    "\n",
    "# Import cufflinks for visualization\n",
    "import cufflinks as cf\n",
    "cf.set_config_file(offline=True)\n",
    "\n",
    "# Ignore warnings\n",
    "import warnings\n",
    "warnings.filterwarnings('ignore')\n",
    "\n",
    "# Import norm distribution function\n",
    "from scipy.stats import norm\n",
    " "
   ]
  },
  {
   "cell_type": "code",
   "execution_count": null,
   "metadata": {},
   "outputs": [
    {
     "name": "stderr",
     "output_type": "stream",
     "text": [
      "2025-03-30 14:11:05.382 WARNING streamlit.runtime.scriptrunner_utils.script_run_context: Thread 'MainThread': missing ScriptRunContext! This warning can be ignored when running in bare mode.\n",
      "2025-03-30 14:11:06.513 \n",
      "  \u001b[33m\u001b[1mWarning:\u001b[0m to view this Streamlit app on a browser, run it with the following\n",
      "  command:\n",
      "\n",
      "    streamlit run C:\\Users\\hp\\AppData\\Roaming\\Python\\Python313\\site-packages\\ipykernel_launcher.py [ARGUMENTS]\n",
      "2025-03-30 14:11:06.515 Thread 'MainThread': missing ScriptRunContext! This warning can be ignored when running in bare mode.\n",
      "2025-03-30 14:11:06.517 Thread 'MainThread': missing ScriptRunContext! This warning can be ignored when running in bare mode.\n",
      "2025-03-30 14:11:06.518 Thread 'MainThread': missing ScriptRunContext! This warning can be ignored when running in bare mode.\n",
      "2025-03-30 14:11:06.519 Thread 'MainThread': missing ScriptRunContext! This warning can be ignored when running in bare mode.\n",
      "2025-03-30 14:11:06.520 Thread 'MainThread': missing ScriptRunContext! This warning can be ignored when running in bare mode.\n"
     ]
    }
   ],
   "source": [
    "# Borrador para saber donde esta mi streamlit:  \n",
    "import streamlit as st\n",
    "\n",
    "st.title(\"Hola que tal\")\n",
    "st.write(\"Esto es una prueba de Streamlit.\")"
   ]
  },
  {
   "cell_type": "code",
   "execution_count": null,
   "metadata": {},
   "outputs": [
    {
     "data": {
      "text/html": [
       "<div>\n",
       "<style scoped>\n",
       "    .dataframe tbody tr th:only-of-type {\n",
       "        vertical-align: middle;\n",
       "    }\n",
       "\n",
       "    .dataframe tbody tr th {\n",
       "        vertical-align: top;\n",
       "    }\n",
       "\n",
       "    .dataframe thead th {\n",
       "        text-align: right;\n",
       "    }\n",
       "</style>\n",
       "<table border=\"1\" class=\"dataframe\">\n",
       "  <thead>\n",
       "    <tr style=\"text-align: right;\">\n",
       "      <th>Ticker</th>\n",
       "      <th>BTC-USD</th>\n",
       "    </tr>\n",
       "    <tr>\n",
       "      <th>Date</th>\n",
       "      <th></th>\n",
       "    </tr>\n",
       "  </thead>\n",
       "  <tbody>\n",
       "    <tr>\n",
       "      <th>2014-09-17</th>\n",
       "      <td>457.334015</td>\n",
       "    </tr>\n",
       "    <tr>\n",
       "      <th>2014-09-18</th>\n",
       "      <td>424.440002</td>\n",
       "    </tr>\n",
       "    <tr>\n",
       "      <th>2014-09-19</th>\n",
       "      <td>394.795990</td>\n",
       "    </tr>\n",
       "    <tr>\n",
       "      <th>2014-09-20</th>\n",
       "      <td>408.903992</td>\n",
       "    </tr>\n",
       "    <tr>\n",
       "      <th>2014-09-21</th>\n",
       "      <td>398.821014</td>\n",
       "    </tr>\n",
       "    <tr>\n",
       "      <th>...</th>\n",
       "      <td>...</td>\n",
       "    </tr>\n",
       "    <tr>\n",
       "      <th>2025-03-27</th>\n",
       "      <td>87177.101562</td>\n",
       "    </tr>\n",
       "    <tr>\n",
       "      <th>2025-03-28</th>\n",
       "      <td>84353.148438</td>\n",
       "    </tr>\n",
       "    <tr>\n",
       "      <th>2025-03-29</th>\n",
       "      <td>82597.585938</td>\n",
       "    </tr>\n",
       "    <tr>\n",
       "      <th>2025-03-30</th>\n",
       "      <td>82334.523438</td>\n",
       "    </tr>\n",
       "    <tr>\n",
       "      <th>2025-04-01</th>\n",
       "      <td>82623.390625</td>\n",
       "    </tr>\n",
       "  </tbody>\n",
       "</table>\n",
       "<p>3849 rows × 1 columns</p>\n",
       "</div>"
      ],
      "text/plain": [
       "Ticker           BTC-USD\n",
       "Date                    \n",
       "2014-09-17    457.334015\n",
       "2014-09-18    424.440002\n",
       "2014-09-19    394.795990\n",
       "2014-09-20    408.903992\n",
       "2014-09-21    398.821014\n",
       "...                  ...\n",
       "2025-03-27  87177.101562\n",
       "2025-03-28  84353.148438\n",
       "2025-03-29  82597.585938\n",
       "2025-03-30  82334.523438\n",
       "2025-04-01  82623.390625\n",
       "\n",
       "[3849 rows x 1 columns]"
      ]
     },
     "execution_count": 11,
     "metadata": {},
     "output_type": "execute_result"
    }
   ],
   "source": [
    "df = yf.download('BTC-USD', start='2010-01-01', progress=False)['Close']\n",
    "returns = df.pct_change().dropna()\n",
    "returns\n",
    "\n",
    "\n",
    "\n",
    " #Display the first five rows of the dataframe to check the results. "
   ]
  },
  {
   "cell_type": "code",
   "execution_count": 13,
   "metadata": {},
   "outputs": [
    {
     "data": {
      "text/html": [
       "<div>\n",
       "<style scoped>\n",
       "    .dataframe tbody tr th:only-of-type {\n",
       "        vertical-align: middle;\n",
       "    }\n",
       "\n",
       "    .dataframe tbody tr th {\n",
       "        vertical-align: top;\n",
       "    }\n",
       "\n",
       "    .dataframe thead tr th {\n",
       "        text-align: left;\n",
       "    }\n",
       "\n",
       "    .dataframe thead tr:last-of-type th {\n",
       "        text-align: right;\n",
       "    }\n",
       "</style>\n",
       "<table border=\"1\" class=\"dataframe\">\n",
       "  <thead>\n",
       "    <tr>\n",
       "      <th>Price</th>\n",
       "      <th>Close</th>\n",
       "      <th>High</th>\n",
       "      <th>Low</th>\n",
       "      <th>Open</th>\n",
       "      <th>Volume</th>\n",
       "    </tr>\n",
       "    <tr>\n",
       "      <th>Ticker</th>\n",
       "      <th>BTC-USD</th>\n",
       "      <th>BTC-USD</th>\n",
       "      <th>BTC-USD</th>\n",
       "      <th>BTC-USD</th>\n",
       "      <th>BTC-USD</th>\n",
       "    </tr>\n",
       "    <tr>\n",
       "      <th>Date</th>\n",
       "      <th></th>\n",
       "      <th></th>\n",
       "      <th></th>\n",
       "      <th></th>\n",
       "      <th></th>\n",
       "    </tr>\n",
       "  </thead>\n",
       "  <tbody>\n",
       "    <tr>\n",
       "      <th>2014-09-17</th>\n",
       "      <td>457.334015</td>\n",
       "      <td>468.174011</td>\n",
       "      <td>452.421997</td>\n",
       "      <td>465.864014</td>\n",
       "      <td>21056800</td>\n",
       "    </tr>\n",
       "    <tr>\n",
       "      <th>2014-09-18</th>\n",
       "      <td>424.440002</td>\n",
       "      <td>456.859985</td>\n",
       "      <td>413.104004</td>\n",
       "      <td>456.859985</td>\n",
       "      <td>34483200</td>\n",
       "    </tr>\n",
       "    <tr>\n",
       "      <th>2014-09-19</th>\n",
       "      <td>394.795990</td>\n",
       "      <td>427.834991</td>\n",
       "      <td>384.532013</td>\n",
       "      <td>424.102997</td>\n",
       "      <td>37919700</td>\n",
       "    </tr>\n",
       "    <tr>\n",
       "      <th>2014-09-20</th>\n",
       "      <td>408.903992</td>\n",
       "      <td>423.295990</td>\n",
       "      <td>389.882996</td>\n",
       "      <td>394.673004</td>\n",
       "      <td>36863600</td>\n",
       "    </tr>\n",
       "    <tr>\n",
       "      <th>2014-09-21</th>\n",
       "      <td>398.821014</td>\n",
       "      <td>412.425995</td>\n",
       "      <td>393.181000</td>\n",
       "      <td>408.084991</td>\n",
       "      <td>26580100</td>\n",
       "    </tr>\n",
       "    <tr>\n",
       "      <th>...</th>\n",
       "      <td>...</td>\n",
       "      <td>...</td>\n",
       "      <td>...</td>\n",
       "      <td>...</td>\n",
       "      <td>...</td>\n",
       "    </tr>\n",
       "    <tr>\n",
       "      <th>2024-02-29</th>\n",
       "      <td>61198.382812</td>\n",
       "      <td>63585.644531</td>\n",
       "      <td>60498.730469</td>\n",
       "      <td>62499.183594</td>\n",
       "      <td>65496611844</td>\n",
       "    </tr>\n",
       "    <tr>\n",
       "      <th>2024-03-01</th>\n",
       "      <td>62440.632812</td>\n",
       "      <td>63155.101562</td>\n",
       "      <td>60802.527344</td>\n",
       "      <td>61168.062500</td>\n",
       "      <td>40186368423</td>\n",
       "    </tr>\n",
       "    <tr>\n",
       "      <th>2024-03-02</th>\n",
       "      <td>62029.847656</td>\n",
       "      <td>62458.699219</td>\n",
       "      <td>61657.289062</td>\n",
       "      <td>62431.652344</td>\n",
       "      <td>23888473685</td>\n",
       "    </tr>\n",
       "    <tr>\n",
       "      <th>2024-03-03</th>\n",
       "      <td>63167.371094</td>\n",
       "      <td>63230.210938</td>\n",
       "      <td>61435.023438</td>\n",
       "      <td>62031.578125</td>\n",
       "      <td>26253811450</td>\n",
       "    </tr>\n",
       "    <tr>\n",
       "      <th>2024-03-04</th>\n",
       "      <td>68330.414062</td>\n",
       "      <td>68537.031250</td>\n",
       "      <td>62386.519531</td>\n",
       "      <td>63137.003906</td>\n",
       "      <td>70670471105</td>\n",
       "    </tr>\n",
       "  </tbody>\n",
       "</table>\n",
       "<p>3457 rows × 5 columns</p>\n",
       "</div>"
      ],
      "text/plain": [
       "Price              Close          High           Low          Open  \\\n",
       "Ticker           BTC-USD       BTC-USD       BTC-USD       BTC-USD   \n",
       "Date                                                                 \n",
       "2014-09-17    457.334015    468.174011    452.421997    465.864014   \n",
       "2014-09-18    424.440002    456.859985    413.104004    456.859985   \n",
       "2014-09-19    394.795990    427.834991    384.532013    424.102997   \n",
       "2014-09-20    408.903992    423.295990    389.882996    394.673004   \n",
       "2014-09-21    398.821014    412.425995    393.181000    408.084991   \n",
       "...                  ...           ...           ...           ...   \n",
       "2024-02-29  61198.382812  63585.644531  60498.730469  62499.183594   \n",
       "2024-03-01  62440.632812  63155.101562  60802.527344  61168.062500   \n",
       "2024-03-02  62029.847656  62458.699219  61657.289062  62431.652344   \n",
       "2024-03-03  63167.371094  63230.210938  61435.023438  62031.578125   \n",
       "2024-03-04  68330.414062  68537.031250  62386.519531  63137.003906   \n",
       "\n",
       "Price            Volume  \n",
       "Ticker          BTC-USD  \n",
       "Date                     \n",
       "2014-09-17     21056800  \n",
       "2014-09-18     34483200  \n",
       "2014-09-19     37919700  \n",
       "2014-09-20     36863600  \n",
       "2014-09-21     26580100  \n",
       "...                 ...  \n",
       "2024-02-29  65496611844  \n",
       "2024-03-01  40186368423  \n",
       "2024-03-02  23888473685  \n",
       "2024-03-03  26253811450  \n",
       "2024-03-04  70670471105  \n",
       "\n",
       "[3457 rows x 5 columns]"
      ]
     },
     "execution_count": 13,
     "metadata": {},
     "output_type": "execute_result"
    }
   ],
   "source": [
    "# Fetch data by specifying the the start and end dates\n",
    "df = yf.download('BTC-USD', start='2008-01-01', end='2024-03-05', progress=False)\n",
    "\n",
    "# Display the first five rows of the dataframe to check the results. \n",
    "df"
   ]
  },
  {
   "cell_type": "code",
   "execution_count": 18,
   "metadata": {},
   "outputs": [
    {
     "data": {
      "text/plain": [
       "<Axes: title={'center': 'BTC-USD Price'}, xlabel='Date'>"
      ]
     },
     "execution_count": 18,
     "metadata": {},
     "output_type": "execute_result"
    }
   ],
   "source": [
    "df.plot(kind='line',title='BTC-USD Price')"
   ]
  },
  {
   "cell_type": "code",
   "execution_count": 14,
   "metadata": {},
   "outputs": [
    {
     "data": {
      "text/html": [
       "<div>\n",
       "<style scoped>\n",
       "    .dataframe tbody tr th:only-of-type {\n",
       "        vertical-align: middle;\n",
       "    }\n",
       "\n",
       "    .dataframe tbody tr th {\n",
       "        vertical-align: top;\n",
       "    }\n",
       "\n",
       "    .dataframe thead tr th {\n",
       "        text-align: left;\n",
       "    }\n",
       "\n",
       "    .dataframe thead tr:last-of-type th {\n",
       "        text-align: right;\n",
       "    }\n",
       "</style>\n",
       "<table border=\"1\" class=\"dataframe\">\n",
       "  <thead>\n",
       "    <tr>\n",
       "      <th>Price</th>\n",
       "      <th>Close</th>\n",
       "      <th>High</th>\n",
       "      <th>Low</th>\n",
       "      <th>Open</th>\n",
       "      <th>Volume</th>\n",
       "    </tr>\n",
       "    <tr>\n",
       "      <th>Ticker</th>\n",
       "      <th>BTC-USD</th>\n",
       "      <th>BTC-USD</th>\n",
       "      <th>BTC-USD</th>\n",
       "      <th>BTC-USD</th>\n",
       "      <th>BTC-USD</th>\n",
       "    </tr>\n",
       "    <tr>\n",
       "      <th>Date</th>\n",
       "      <th></th>\n",
       "      <th></th>\n",
       "      <th></th>\n",
       "      <th></th>\n",
       "      <th></th>\n",
       "    </tr>\n",
       "  </thead>\n",
       "  <tbody>\n",
       "    <tr>\n",
       "      <th>2014-09-18</th>\n",
       "      <td>-0.074643</td>\n",
       "      <td>-0.024463</td>\n",
       "      <td>-0.090916</td>\n",
       "      <td>-0.019517</td>\n",
       "      <td>0.493249</td>\n",
       "    </tr>\n",
       "    <tr>\n",
       "      <th>2014-09-19</th>\n",
       "      <td>-0.072402</td>\n",
       "      <td>-0.065639</td>\n",
       "      <td>-0.071672</td>\n",
       "      <td>-0.074401</td>\n",
       "      <td>0.094999</td>\n",
       "    </tr>\n",
       "    <tr>\n",
       "      <th>2014-09-20</th>\n",
       "      <td>0.035111</td>\n",
       "      <td>-0.010666</td>\n",
       "      <td>0.013820</td>\n",
       "      <td>-0.071919</td>\n",
       "      <td>-0.028246</td>\n",
       "    </tr>\n",
       "    <tr>\n",
       "      <th>2014-09-21</th>\n",
       "      <td>-0.024968</td>\n",
       "      <td>-0.026015</td>\n",
       "      <td>0.008423</td>\n",
       "      <td>0.033418</td>\n",
       "      <td>-0.327062</td>\n",
       "    </tr>\n",
       "    <tr>\n",
       "      <th>2014-09-22</th>\n",
       "      <td>0.008317</td>\n",
       "      <td>-0.013450</td>\n",
       "      <td>0.009994</td>\n",
       "      <td>-0.022263</td>\n",
       "      <td>-0.096806</td>\n",
       "    </tr>\n",
       "  </tbody>\n",
       "</table>\n",
       "</div>"
      ],
      "text/plain": [
       "Price          Close      High       Low      Open    Volume\n",
       "Ticker       BTC-USD   BTC-USD   BTC-USD   BTC-USD   BTC-USD\n",
       "Date                                                        \n",
       "2014-09-18 -0.074643 -0.024463 -0.090916 -0.019517  0.493249\n",
       "2014-09-19 -0.072402 -0.065639 -0.071672 -0.074401  0.094999\n",
       "2014-09-20  0.035111 -0.010666  0.013820 -0.071919 -0.028246\n",
       "2014-09-21 -0.024968 -0.026015  0.008423  0.033418 -0.327062\n",
       "2014-09-22  0.008317 -0.013450  0.009994 -0.022263 -0.096806"
      ]
     },
     "execution_count": 14,
     "metadata": {},
     "output_type": "execute_result"
    }
   ],
   "source": [
    "#Calculating Log Normal Returns\n",
    "\n",
    "# Use numpy log function to derive log normal returns\n",
    "daily_returns = np.log(df).diff().dropna()\n",
    "\n",
    "# Display the last five rows of the data frame to check the output\n",
    "daily_returns.head(5)"
   ]
  },
  {
   "cell_type": "code",
   "execution_count": 17,
   "metadata": {},
   "outputs": [
    {
     "data": {
      "text/plain": [
       "<Axes: title={'center': 'Daily Log Returns'}, xlabel='Date'>"
      ]
     },
     "execution_count": 17,
     "metadata": {},
     "output_type": "execute_result"
    }
   ],
   "source": [
    "# Plot Returns\n",
    "daily_returns.plot(title='Daily Log Returns')"
   ]
  },
  {
   "cell_type": "code",
   "execution_count": 164,
   "metadata": {},
   "outputs": [],
   "source": [
    "import matplotlib.pyplot as plt\n",
    " \n",
    " # Api de Yahoo Finanzas\n",
    "import yfinance as yf\n",
    " \n",
    "def obtener_datos(activo):\n",
    "     '''\n",
    "     El objetivo de esta funcion es descargar el precio\n",
    "     de cierre de un o varios activos en una ventana de un año\n",
    " \n",
    "     Input = Ticker del activo en string \n",
    "     Output = DataFrame del precio del activo\n",
    " \n",
    "     '''\n",
    "\n",
    "     start_date = \"2010-01-01\" #Fecha de Inicio\n",
    "     end_date = \"2025-03-29\"  #Fecha al día de hoy\n",
    "\n",
    "     # Descargar los datos\n",
    "     df = yf.download(activo, start = start_date, end = end_date)['Close']\n",
    "     return df\n",
    "\n",
    " \n",
    "def calcular_rendimientos(df):\n",
    "     '''\n",
    "     Funcion de calcula los rendimientos de un activo\n",
    " \n",
    "     Input = Data Frame de precios por activo\n",
    " \n",
    "     Output = Data Frame de  rendimientos\n",
    " \n",
    "     '''\n",
    "     return df.pct_change().dropna()\n",
    "\n"
   ]
  },
  {
   "cell_type": "code",
   "execution_count": 165,
   "metadata": {},
   "outputs": [
    {
     "name": "stderr",
     "output_type": "stream",
     "text": [
      "2025-03-29 20:53:08.613 Thread 'MainThread': missing ScriptRunContext! This warning can be ignored when running in bare mode.\n",
      "2025-03-29 20:53:08.614 Thread 'MainThread': missing ScriptRunContext! This warning can be ignored when running in bare mode.\n",
      "2025-03-29 20:53:08.615 Thread 'MainThread': missing ScriptRunContext! This warning can be ignored when running in bare mode.\n",
      "2025-03-29 20:53:08.616 Thread 'MainThread': missing ScriptRunContext! This warning can be ignored when running in bare mode.\n",
      "2025-03-29 20:53:08.617 Thread 'MainThread': missing ScriptRunContext! This warning can be ignored when running in bare mode.\n",
      "2025-03-29 20:53:08.619 Thread 'MainThread': missing ScriptRunContext! This warning can be ignored when running in bare mode.\n",
      "2025-03-29 20:53:08.620 Thread 'MainThread': missing ScriptRunContext! This warning can be ignored when running in bare mode.\n",
      "[*********************100%***********************]  1 of 1 completed\n",
      "2025-03-29 20:53:08.964 Thread 'MainThread': missing ScriptRunContext! This warning can be ignored when running in bare mode.\n",
      "2025-03-29 20:53:08.965 Thread 'MainThread': missing ScriptRunContext! This warning can be ignored when running in bare mode.\n",
      "2025-03-29 20:53:08.968 Thread 'MainThread': missing ScriptRunContext! This warning can be ignored when running in bare mode.\n",
      "2025-03-29 20:53:08.969 Thread 'MainThread': missing ScriptRunContext! This warning can be ignored when running in bare mode.\n"
     ]
    }
   ],
   "source": [
    "'''\n",
    " Streamlit de la clase \n",
    " \n",
    " '''\n",
    " \n",
    "st.title('Clase 1')\n",
    "st.header('Visualizacion de Activos')\n",
    " \n",
    " \n",
    "activo_escogido = ['BTC']\n",
    "\n",
    "with st.spinner('Descargando data...'):\n",
    "     df_precios = MCF.obtener_datos(activo_escogido)\n",
    "     df_rendimientos = MCF.calcular_rendimientos(df_precios)\n",
    " \n",
    "     st.subheader(f'Metricas :{activo_escogido[0]}')\n",
    " \n",
    "     promedio_rendi_diario = df_rendimientos[activo_escogido[0]].mean()\n",
    "     kurtosis = kurtosis(df_rendimientos[activo_escogido[0]])\n",
    "     skew = skew(df_rendimientos[activo_escogido[0]])\n"
   ]
  },
  {
   "cell_type": "code",
   "execution_count": 166,
   "metadata": {},
   "outputs": [
    {
     "name": "stdout",
     "output_type": "stream",
     "text": [
      "Ticker            BTC\n",
      "Date                 \n",
      "2024-07-31  28.950001\n",
      "2024-08-01  28.100000\n",
      "2024-08-02  27.799999\n",
      "2024-08-05  23.750000\n",
      "2024-08-06  25.250000\n",
      "...               ...\n",
      "2025-03-24  39.130001\n",
      "2025-03-25  39.080002\n",
      "2025-03-26  38.349998\n",
      "2025-03-27  38.560001\n",
      "2025-03-28  37.070000\n",
      "\n",
      "[166 rows x 1 columns]\n"
     ]
    }
   ],
   "source": [
    "print(df_precios)"
   ]
  },
  {
   "cell_type": "code",
   "execution_count": 167,
   "metadata": {},
   "outputs": [
    {
     "name": "stdout",
     "output_type": "stream",
     "text": [
      "95% VaR of BTC-USD: -5.5161\n"
     ]
    }
   ],
   "source": [
    "mean = np.mean(df_rendimientos[activo_escogido[0]])\n",
    "stdev = np.std(df_rendimientos[activo_escogido[0]])\n",
    "\n",
    "VaR_95=norm.ppf(1-0.95,mean,stdev)\n",
    "\n",
    "print(\"95% VaR of BTC-USD:\", round(VaR_95*100,4))"
   ]
  },
  {
   "cell_type": "code",
   "execution_count": 120,
   "metadata": {},
   "outputs": [
    {
     "name": "stdout",
     "output_type": "stream",
     "text": [
      "95% VaR of BTC: -5.5161\n"
     ]
    }
   ],
   "source": [
    "mean = np.mean(df_rendimientos['BTC'])\n",
    "stdev = np.std(df_rendimientos['BTC'])\n",
    "\n",
    "VaR_95=norm.ppf(1-0.95,mean,stdev)\n",
    "\n",
    "print(\"95% VaR of BTC:\", round(VaR_95*100,4))"
   ]
  },
  {
   "cell_type": "code",
   "execution_count": null,
   "metadata": {},
   "outputs": [
    {
     "name": "stderr",
     "output_type": "stream",
     "text": [
      "2025-03-31 21:29:12.014 Thread 'MainThread': missing ScriptRunContext! This warning can be ignored when running in bare mode.\n",
      "2025-03-31 21:29:12.016 Thread 'MainThread': missing ScriptRunContext! This warning can be ignored when running in bare mode.\n",
      "2025-03-31 21:29:12.018 Thread 'MainThread': missing ScriptRunContext! This warning can be ignored when running in bare mode.\n",
      "2025-03-31 21:29:12.019 Thread 'MainThread': missing ScriptRunContext! This warning can be ignored when running in bare mode.\n",
      "2025-03-31 21:29:12.021 Thread 'MainThread': missing ScriptRunContext! This warning can be ignored when running in bare mode.\n",
      "2025-03-31 21:29:12.023 Thread 'MainThread': missing ScriptRunContext! This warning can be ignored when running in bare mode.\n",
      "2025-03-31 21:29:12.025 Thread 'MainThread': missing ScriptRunContext! This warning can be ignored when running in bare mode.\n",
      "2025-03-31 21:29:12.026 Thread 'MainThread': missing ScriptRunContext! This warning can be ignored when running in bare mode.\n",
      "2025-03-31 21:29:12.028 Thread 'MainThread': missing ScriptRunContext! This warning can be ignored when running in bare mode.\n",
      "2025-03-31 21:29:12.029 Thread 'MainThread': missing ScriptRunContext! This warning can be ignored when running in bare mode.\n"
     ]
    }
   ],
   "source": [
    "import streamlit as st\n",
    "\n",
    "# Diccionario correcto sin lista\n",
    "porcentaje_confianza = {'95%': 0.95, '97.5%': 0.975, '99%': 0.99}\n",
    "\n",
    "# `selectbox` solo necesita las claves del diccionario\n",
    "var_seleccionado = st.selectbox(\"Selecciona un porcentaje de confianza\", list(porcentaje_confianza.keys()))\n",
    "\n",
    "# Convertir el porcentaje seleccionado a su valor numérico\n",
    "valor_confianza = porcentaje_confianza[var_seleccionado]\n",
    "\n"
   ]
  },
  {
   "cell_type": "code",
   "execution_count": 23,
   "metadata": {},
   "outputs": [
    {
     "data": {
      "text/plain": [
       "5.000000000000004"
      ]
     },
     "execution_count": 23,
     "metadata": {},
     "output_type": "execute_result"
    }
   ],
   "source": [
    "(1-valor_confianza)*100\n"
   ]
  },
  {
   "cell_type": "code",
   "execution_count": 7,
   "metadata": {},
   "outputs": [
    {
     "name": "stderr",
     "output_type": "stream",
     "text": [
      "[*********************100%***********************]  1 of 1 completed\n"
     ]
    },
    {
     "data": {
      "text/html": [
       "<div>\n",
       "<style scoped>\n",
       "    .dataframe tbody tr th:only-of-type {\n",
       "        vertical-align: middle;\n",
       "    }\n",
       "\n",
       "    .dataframe tbody tr th {\n",
       "        vertical-align: top;\n",
       "    }\n",
       "\n",
       "    .dataframe thead th {\n",
       "        text-align: right;\n",
       "    }\n",
       "</style>\n",
       "<table border=\"1\" class=\"dataframe\">\n",
       "  <thead>\n",
       "    <tr style=\"text-align: right;\">\n",
       "      <th>Ticker</th>\n",
       "      <th>BTC-USD</th>\n",
       "    </tr>\n",
       "    <tr>\n",
       "      <th>Date</th>\n",
       "      <th></th>\n",
       "    </tr>\n",
       "  </thead>\n",
       "  <tbody>\n",
       "    <tr>\n",
       "      <th>2014-09-18</th>\n",
       "      <td>-0.071926</td>\n",
       "    </tr>\n",
       "    <tr>\n",
       "      <th>2014-09-19</th>\n",
       "      <td>-0.069843</td>\n",
       "    </tr>\n",
       "    <tr>\n",
       "      <th>2014-09-20</th>\n",
       "      <td>0.035735</td>\n",
       "    </tr>\n",
       "    <tr>\n",
       "      <th>2014-09-21</th>\n",
       "      <td>-0.024659</td>\n",
       "    </tr>\n",
       "    <tr>\n",
       "      <th>2014-09-22</th>\n",
       "      <td>0.008352</td>\n",
       "    </tr>\n",
       "    <tr>\n",
       "      <th>...</th>\n",
       "      <td>...</td>\n",
       "    </tr>\n",
       "    <tr>\n",
       "      <th>2025-03-28</th>\n",
       "      <td>-0.032393</td>\n",
       "    </tr>\n",
       "    <tr>\n",
       "      <th>2025-03-29</th>\n",
       "      <td>-0.020812</td>\n",
       "    </tr>\n",
       "    <tr>\n",
       "      <th>2025-03-30</th>\n",
       "      <td>-0.003185</td>\n",
       "    </tr>\n",
       "    <tr>\n",
       "      <th>2025-03-31</th>\n",
       "      <td>0.002604</td>\n",
       "    </tr>\n",
       "    <tr>\n",
       "      <th>2025-04-01</th>\n",
       "      <td>0.032104</td>\n",
       "    </tr>\n",
       "  </tbody>\n",
       "</table>\n",
       "<p>3849 rows × 1 columns</p>\n",
       "</div>"
      ],
      "text/plain": [
       "Ticker       BTC-USD\n",
       "Date                \n",
       "2014-09-18 -0.071926\n",
       "2014-09-19 -0.069843\n",
       "2014-09-20  0.035735\n",
       "2014-09-21 -0.024659\n",
       "2014-09-22  0.008352\n",
       "...              ...\n",
       "2025-03-28 -0.032393\n",
       "2025-03-29 -0.020812\n",
       "2025-03-30 -0.003185\n",
       "2025-03-31  0.002604\n",
       "2025-04-01  0.032104\n",
       "\n",
       "[3849 rows x 1 columns]"
      ]
     },
     "execution_count": 7,
     "metadata": {},
     "output_type": "execute_result"
    }
   ],
   "source": [
    "df = yf.download('BTC-USD', start='2008-01-01')['Close']\n",
    "returns = df.pct_change().dropna()\n",
    "returns"
   ]
  },
  {
   "cell_type": "code",
   "execution_count": 12,
   "metadata": {},
   "outputs": [
    {
     "ename": "TypeError",
     "evalue": "type numpy.ndarray doesn't define __round__ method",
     "output_type": "error",
     "traceback": [
      "\u001b[31m---------------------------------------------------------------------------\u001b[39m",
      "\u001b[31mTypeError\u001b[39m                                 Traceback (most recent call last)",
      "\u001b[36mCell\u001b[39m\u001b[36m \u001b[39m\u001b[32mIn[12]\u001b[39m\u001b[32m, line 33\u001b[39m\n\u001b[32m     30\u001b[39m           \u001b[38;5;28;01mreturn\u001b[39;00m pd.DataFrame(result, index=returns.iloc[window_size:].index)\n\u001b[32m     32\u001b[39m \u001b[38;5;66;03m# Llamada a la función para calcular VaR y ES con rolling window\u001b[39;00m\n\u001b[32m---> \u001b[39m\u001b[32m33\u001b[39m rolling_window_results = \u001b[43mvar_y_es_rolling_window\u001b[49m\u001b[43m(\u001b[49m\u001b[43mreturns\u001b[49m\u001b[43m)\u001b[49m\n\u001b[32m     35\u001b[39m \u001b[38;5;66;03m# Unimos resultados con los daily_returns\u001b[39;00m\n\u001b[32m     36\u001b[39m final = returns.iloc[\u001b[32m252\u001b[39m:].join(rolling_window_results)\n",
      "\u001b[36mCell\u001b[39m\u001b[36m \u001b[39m\u001b[32mIn[12]\u001b[39m\u001b[32m, line 15\u001b[39m, in \u001b[36mvar_y_es_rolling_window\u001b[39m\u001b[34m(returns, window_size, confidence_levels)\u001b[39m\n\u001b[32m     13\u001b[39m \u001b[38;5;66;03m# Calculo del VaR parámetrico e Histórico, misma metodología anteriormente definida adaptada a las rolling window\u001b[39;00m\n\u001b[32m     14\u001b[39m       \u001b[38;5;28;01mfor\u001b[39;00m level \u001b[38;5;129;01min\u001b[39;00m confidence_levels:\n\u001b[32m---> \u001b[39m\u001b[32m15\u001b[39m           VaR_p[level].append(\u001b[38;5;28;43mround\u001b[39;49m\u001b[43m(\u001b[49m\u001b[43mnorm\u001b[49m\u001b[43m.\u001b[49m\u001b[43mppf\u001b[49m\u001b[43m(\u001b[49m\u001b[32;43m1\u001b[39;49m\u001b[43m \u001b[49m\u001b[43m-\u001b[49m\u001b[43m \u001b[49m\u001b[43mlevel\u001b[49m\u001b[43m,\u001b[49m\u001b[43m \u001b[49m\u001b[43mmean_rw\u001b[49m\u001b[43m,\u001b[49m\u001b[43m \u001b[49m\u001b[43mstd_rw\u001b[49m\u001b[43m)\u001b[49m\u001b[43m,\u001b[49m\u001b[43m \u001b[49m\u001b[32;43m4\u001b[39;49m\u001b[43m)\u001b[49m)\n\u001b[32m     16\u001b[39m           hVaR = \u001b[38;5;28mround\u001b[39m(rw.quantile(\u001b[32m1\u001b[39m - level), \u001b[32m4\u001b[39m)\n\u001b[32m     17\u001b[39m           VaR_h[level].append(hVaR)\n",
      "\u001b[31mTypeError\u001b[39m: type numpy.ndarray doesn't define __round__ method"
     ]
    }
   ],
   "source": [
    "def var_y_es_rolling_window(returns, window_size = 252, confidence_levels = [0.95, 0.99]):\n",
    "          i = 0 #índice de inicio   \n",
    "          j = window_size #tamaño de la rolling window\n",
    "          VaR_p = {level: [] for level in confidence_levels} #diccionario vacio para el VaR paramétrico\n",
    "          VaR_h = {level: [] for level in confidence_levels} #diccionario vacio para el VaR histórico\n",
    "          ES = {level: [] for level in confidence_levels} #diccionario vacio para el ES.\n",
    "    #bucle para seleccionar una ventana movildel tamaño definido en window_size,i.e, 252\n",
    "          while j <= len(returns) - 1:\n",
    "              rw = returns.iloc[i:j]\n",
    "              mean_rw = rw.mean() #media de la ventana en cuestión\n",
    "              std_rw = rw.std() #sd de la ventana en cuestión\n",
    "\n",
    "        # Calculo del VaR parámetrico e Histórico, misma metodología anteriormente definida adaptada a las rolling window\n",
    "              for level in confidence_levels:\n",
    "                  VaR_p[level].append(round(norm.ppf(1 - level, mean_rw, std_rw), 4))\n",
    "                  hVaR = round(rw.quantile(1 - level), 4)\n",
    "                  VaR_h[level].append(hVaR)\n",
    "                  ES[level].append(round(rw[rw <= hVaR].mean(), 4)) # Cálculo del Expected Shortfall\n",
    "\n",
    "              i += 1 #desplazamos i\n",
    "              j += 1 #desplazamos j\n",
    "\n",
    "          result = {} #diccionario vacio donde se almacenarán los datos calculados\n",
    "    #pequeño bucle para que recorra ambos niveles de confianza\n",
    "          for level in confidence_levels:\n",
    "              result[f\"VaR {level * 100}\"] = VaR_p[level]\n",
    "              result[f\"VaR Histórico {level * 100}\"] = VaR_h[level]\n",
    "              result[f\"CVaR {level * 100}\"] = ES[level]\n",
    "    #regresa un dataframe creado a partir de la recolección de datos del diccionario result.\n",
    "          return pd.DataFrame(result, index=returns.iloc[window_size:].index)\n",
    "\n",
    "# Llamada a la función para calcular VaR y ES con rolling window\n",
    "rolling_window_results = var_y_es_rolling_window(returns)\n",
    "\n",
    "# Unimos resultados con los daily_returns\n",
    "final = returns.iloc[252:].join(rolling_window_results)\n",
    "\n",
    "# Imprimimos los datos unidos.\n",
    "final\n",
    "\n",
    "# Graficamos los datos con .iplot, para que sean interactivos y podamos seleccionar los que nos interesen.\n",
    "plot_final = final.iplot(title = \"VaR y Expected Shortfall con Rolling Windows con 252 retornos, AMZN 2010-2023\",color = ['lightblue','blue', 'red', 'green', 'yellow', 'orange', 'purple'], asFigure=True)\n",
    "plot_final.show()"
   ]
  }
 ],
 "metadata": {
  "kernelspec": {
   "display_name": "Python 3",
   "language": "python",
   "name": "python3"
  },
  "language_info": {
   "codemirror_mode": {
    "name": "ipython",
    "version": 3
   },
   "file_extension": ".py",
   "mimetype": "text/x-python",
   "name": "python",
   "nbconvert_exporter": "python",
   "pygments_lexer": "ipython3",
   "version": "3.13.2"
  }
 },
 "nbformat": 4,
 "nbformat_minor": 2
}
